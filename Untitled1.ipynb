{
 "cells": [
  {
   "cell_type": "code",
   "execution_count": 1,
   "id": "9a5eb083",
   "metadata": {},
   "outputs": [
    {
     "data": {
      "application/vnd.jupyter.widget-view+json": {
       "model_id": "dedf7f07de5e4902ade089e79e7a0019",
       "version_major": 2,
       "version_minor": 0
      },
      "text/plain": [
       "interactive(children=(FloatSlider(value=1.0, description='k:', min=0.1, step=2.0), FloatSlider(value=1.0, desc…"
      ]
     },
     "metadata": {},
     "output_type": "display_data"
    },
    {
     "data": {
      "application/vnd.jupyter.widget-view+json": {
       "model_id": "823bb6dc794a4bd6affdaf4028b290fb",
       "version_major": 2,
       "version_minor": 0
      },
      "text/plain": [
       "FloatSlider(value=1.0, description='k:', min=0.1, step=2.0)"
      ]
     },
     "metadata": {},
     "output_type": "display_data"
    },
    {
     "data": {
      "application/vnd.jupyter.widget-view+json": {
       "model_id": "740da903c6074edb859ff8c72e0b54bd",
       "version_major": 2,
       "version_minor": 0
      },
      "text/plain": [
       "FloatSlider(value=1.0, description='d:', max=50.0, min=0.1, step=1.0)"
      ]
     },
     "metadata": {},
     "output_type": "display_data"
    }
   ],
   "source": [
    "import numpy as np\n",
    "import matplotlib.pyplot as plt\n",
    "from ipywidgets import interact, widgets\n",
    "from IPython.display import display\n",
    "\n",
    "# Define the function\n",
    "def plot_function(k, d):\n",
    "    x = np.linspace(0.18, 1, 1000)\n",
    "    y = -np.log(d * np.exp(k * x) / (np.exp(-k * x) - 1)**2)\n",
    "    \n",
    "    plt.figure(figsize=(8, 5))\n",
    "    plt.plot(x, y)\n",
    "    plt.title(f'Function: -log(exp({k}x) / (exp(-{k}x) - 1)^2)')\n",
    "    plt.xlabel('x')\n",
    "    plt.ylabel('y')\n",
    "    plt.grid(True)\n",
    "    plt.ylim(-10, 10)\n",
    "    plt.show()\n",
    "\n",
    "# Create an interactive slider for 'k'\n",
    "k_slider = widgets.FloatSlider(value=1.0, min=0.1, max=100, step=2, description='k:')\n",
    "d_slider = widgets.FloatSlider(value=1.0, min=0.1, max=50.0, step=1, description='d:')\n",
    "interact(plot_function, k=k_slider, d=d_slider)\n",
    "\n",
    "# Display the interactive plot\n",
    "display(k_slider, d_slider)"
   ]
  }
 ],
 "metadata": {
  "kernelspec": {
   "display_name": "Python 3 (ipykernel)",
   "language": "python",
   "name": "python3"
  },
  "language_info": {
   "codemirror_mode": {
    "name": "ipython",
    "version": 3
   },
   "file_extension": ".py",
   "mimetype": "text/x-python",
   "name": "python",
   "nbconvert_exporter": "python",
   "pygments_lexer": "ipython3",
   "version": "3.11.3"
  }
 },
 "nbformat": 4,
 "nbformat_minor": 5
}
